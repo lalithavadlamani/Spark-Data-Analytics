{
 "cells": [
  {
   "cell_type": "code",
   "execution_count": 2,
   "id": "106b6580",
   "metadata": {},
   "outputs": [],
   "source": [
    "# importing required packages\n",
    "from pyspark.sql import SparkSession\n",
    "from pyspark.ml.feature import HashingTF, IDF, Normalizer, Word2Vec \n",
    "from pyspark.ml.linalg import DenseVector, Vectors, VectorUDT\n",
    "from pyspark.sql.functions import col, explode, udf, concat_ws, collect_list, split\n",
    "from pyspark.ml.recommendation import ALS\n",
    "from pyspark.sql.types import DoubleType"
   ]
  },
  {
   "cell_type": "code",
   "execution_count": 3,
   "id": "168fda74",
   "metadata": {},
   "outputs": [],
   "source": [
    "# Setting a spark session \n",
    "spark = SparkSession \\\n",
    "    .builder \\\n",
    "    .appName(\"Workload-2\") \\\n",
    "    .getOrCreate()\n",
    "\n",
    "# spark.conf.set(\"spark.sql.shuffle.partitions\", 100)\n",
    "sc = spark.sparkContext\n",
    "sc.defaultParallelism\n",
    "sc.getConf().getAll()\n",
    "spark.conf.set('spark.sql.adaptive.enabled',True)"
   ]
  },
  {
   "cell_type": "code",
   "execution_count": 3,
   "id": "446dfa62",
   "metadata": {},
   "outputs": [],
   "source": [
    "# reading data\n",
    "data = spark.read.option(\"multiline\",\"true\").json('tweets.json')\n",
    "# data.cache()spark.conf\n",
    "# data.show(truncate=False)"
   ]
  },
  {
   "cell_type": "code",
   "execution_count": 4,
   "id": "6ddf9d55",
   "metadata": {},
   "outputs": [
    {
     "data": {
      "text/plain": [
       "DataFrame[user_id: bigint, mention_users: bigint]"
      ]
     },
     "execution_count": 4,
     "metadata": {},
     "output_type": "execute_result"
    }
   ],
   "source": [
    "# Data formatting for collaborative filtering\n",
    "data2_formatting = data.withColumn(\"user_mentions\", explode(\"user_mentions\")).select(\n",
    "  col('user_id'), col(\"user_mentions\")[\"id\"].alias(\"mention_users\")).cache()\n",
    "# data2_formatting.show()\n",
    "\n",
    "data2_required = data2_formatting.groupBy(\"user_id\", \"mention_users\").count().withColumnRenamed(\"count\",\"rating\").cache()\n",
    "# data2_required.show()\n",
    "# data2_required.dtypes\n",
    "data2_formatting.unpersist()"
   ]
  },
  {
   "cell_type": "code",
   "execution_count": 5,
   "id": "ce6b839a",
   "metadata": {},
   "outputs": [],
   "source": [
    "# Mapping large id values to integer range values\n",
    "distinct_tweet_uids = data2_required.select(\"user_id\").distinct()\n",
    "distinct_mention_uids = data2_required.select(\"mention_users\").distinct()\n",
    "# distinct_user_id.show()\n",
    "distinct_ids_total = distinct_tweet_uids.union(distinct_mention_uids).distinct()\n",
    "# distinct_ids_total.show()\n",
    "indices_for_ids = distinct_ids_total.rdd.zipWithIndex().toDF()\n",
    "# indices_for_ids.show()\n",
    "\n",
    "mapping_df_for_uid = indices_for_ids.select(\"_1.*\", \"_2\").withColumnRenamed(\"user_id\",\"uid\").withColumnRenamed(\"_2\",\"new_uid\").cache()\n",
    "\n",
    "mapping_df_for_mid = mapping_df_for_uid.withColumnRenamed(\"new_uid\",\"new_mid\")\n",
    "\n",
    "# print(mapping_df_for_uid.dtypes)\n",
    "# print(mapping_df_for_mid.dtypes)"
   ]
  },
  {
   "cell_type": "code",
   "execution_count": 6,
   "id": "0fe47f7f",
   "metadata": {},
   "outputs": [],
   "source": [
    "# Preparing data with the mapped values \n",
    "data_with_new_uid = data2_required.join(mapping_df_for_uid,data2_required.user_id==mapping_df_for_uid.uid,how='inner').drop('uid').cache()\n",
    "# data_with_new_uid.show()\n",
    "\n",
    "data_with_new_mid = data_with_new_uid.join(mapping_df_for_mid,data_with_new_uid.mention_users==mapping_df_for_mid.uid).drop('uid')\n",
    "# data_with_new_mid.show()"
   ]
  },
  {
   "cell_type": "code",
   "execution_count": 7,
   "id": "2e2478fc",
   "metadata": {},
   "outputs": [],
   "source": [
    "# Building the recommendation model\n",
    "als = ALS(rank=8,maxIter=20,regParam=0.01, implicitPrefs=True,userCol=\"new_uid\", itemCol=\"new_mid\", ratingCol=\"rating\",coldStartStrategy=\"drop\")\n",
    "als_model = als.fit(data_with_new_mid)\n",
    "\n",
    "# Recommending 5 items for each user\n",
    "user_recommendations = als_model.recommendForAllUsers(5)"
   ]
  },
  {
   "cell_type": "code",
   "execution_count": 8,
   "id": "13b0026c",
   "metadata": {},
   "outputs": [],
   "source": [
    "output = user_recommendations.join(mapping_df_for_uid,user_recommendations.new_uid==mapping_df_for_uid.new_uid).select(col('uid').alias('tweet_users'),col('recommendations').alias('mention_users'))\n",
    "# output.dtypes"
   ]
  },
  {
   "cell_type": "code",
   "execution_count": 9,
   "id": "1b2c0c19",
   "metadata": {},
   "outputs": [],
   "source": [
    "final_output = output.select('tweet_users','mention_users.new_mid')\n",
    "# final_output.show()"
   ]
  },
  {
   "cell_type": "code",
   "execution_count": 10,
   "id": "22e01ba6",
   "metadata": {},
   "outputs": [],
   "source": [
    "# Re-mapping and getting back the original ids\n",
    "mapping_dictionary = mapping_df_for_uid.rdd.map(lambda x: (x.new_uid, x.uid)).collectAsMap()\n",
    "# type(mapping_dictionary)\n",
    "# mapping_dictionary\n",
    "mapping_array = udf(lambda x: [mapping_dictionary[key] for key in x])\n",
    "final_required_output = final_output.withColumn('original_mids', mapping_array(final_output['new_mid']))"
   ]
  },
  {
   "cell_type": "code",
   "execution_count": 11,
   "id": "b71a7a73",
   "metadata": {},
   "outputs": [
    {
     "name": "stdout",
     "output_type": "stream",
     "text": [
      "+-------------------+---------------------------------------------------------------+\n",
      "|tweet_users        |mention_users                                                  |\n",
      "+-------------------+---------------------------------------------------------------+\n",
      "|133350176          |[1349149096909668363, 355989081, 3290364847, 18831926, 939091] |\n",
      "|1201278424553336835|[15115280, 191807697, 13393052, 18831926, 1349149096909668363] |\n",
      "|183115377          |[133081348, 191807697, 22429979, 13393052, 18831926]           |\n",
      "|3820494734         |[807095, 360019454, 428333, 18831926, 21802625]                |\n",
      "|4096787361         |[133081348, 191807697, 22429979, 13393052, 18831926]           |\n",
      "|70686448           |[26574283, 996693014251585536, 13850422, 185025785, 1004633989]|\n",
      "|27884506           |[26574283, 996693014251585536, 13850422, 185025785, 1004633989]|\n",
      "|23676863           |[133081348, 13393052, 22429979, 191807697, 299273962]          |\n",
      "|1006173880568942593|[26574283, 996693014251585536, 13850422, 185025785, 1004633989]|\n",
      "|293300756          |[26574283, 996693014251585536, 13850422, 185025785, 1004633989]|\n",
      "|1919487559         |[807095, 360019454, 428333, 18831926, 21802625]                |\n",
      "|1385355916376215556|[807095, 360019454, 428333, 18831926, 21802625]                |\n",
      "|466998578          |[807095, 360019454, 428333, 18831926, 21802625]                |\n",
      "|162455215          |[807095, 360019454, 428333, 18831926, 21802625]                |\n",
      "|415107541          |[380648579, 360019454, 428333, 13393052, 191807697]            |\n",
      "|917039304752300032 |[807095, 360019454, 428333, 18831926, 21802625]                |\n",
      "|1240974824         |[807095, 360019454, 428333, 18831926, 21802625]                |\n",
      "|881476494433898496 |[380648579, 428333, 100248020, 4970411, 96900937]              |\n",
      "|1133887249249185795|[807095, 360019454, 428333, 18831926, 21802625]                |\n",
      "|112219541          |[26574283, 996693014251585536, 13850422, 185025785, 1004633989]|\n",
      "+-------------------+---------------------------------------------------------------+\n",
      "only showing top 20 rows\n",
      "\n"
     ]
    }
   ],
   "source": [
    "# Recommended mention users for each tweet user \n",
    "final_required_output.cache()\n",
    "final_required_output.select('tweet_users',col('original_mids').alias('mention_users')).show(truncate=False)"
   ]
  },
  {
   "cell_type": "code",
   "execution_count": 4,
   "id": "050d08b0",
   "metadata": {},
   "outputs": [
    {
     "data": {
      "text/plain": [
       "[('spark.app.startTime', '1622110396408'),\n",
       " ('spark.eventLog.enabled', 'true'),\n",
       " ('spark.app.id', 'local-1622110398615'),\n",
       " ('spark.app.name', 'Workload-2'),\n",
       " ('spark.sql.warehouse.dir',\n",
       "  'file:/home/jovyan/work/Assignment-2/spark-warehouse'),\n",
       " ('spark.executor.id', 'driver'),\n",
       " ('spark.driver.port', '39613'),\n",
       " ('spark.yarn.historyServer.address', 'http://localhost:18080'),\n",
       " ('spark.rdd.compress', 'True'),\n",
       " ('spark.serializer.objectStreamReset', '100'),\n",
       " ('spark.master', 'local[*]'),\n",
       " ('spark.submit.pyFiles', ''),\n",
       " ('spark.submit.deployMode', 'client'),\n",
       " ('spark.driver.host', '836656c9dccc'),\n",
       " ('spark.eventLog.dir', 'file:///home/jovyan/work/spark-history'),\n",
       " ('spark.ui.showConsoleProgress', 'true'),\n",
       " ('spark.history.fs.logDirectory', 'file:///home/jovyan/work/spark-history')]"
      ]
     },
     "execution_count": 4,
     "metadata": {},
     "output_type": "execute_result"
    }
   ],
   "source": [
    "# sc.getConf().getAll()"
   ]
  }
 ],
 "metadata": {
  "kernelspec": {
   "display_name": "Python 3",
   "language": "python",
   "name": "python3"
  },
  "language_info": {
   "codemirror_mode": {
    "name": "ipython",
    "version": 3
   },
   "file_extension": ".py",
   "mimetype": "text/x-python",
   "name": "python",
   "nbconvert_exporter": "python",
   "pygments_lexer": "ipython3",
   "version": "3.8.8"
  }
 },
 "nbformat": 4,
 "nbformat_minor": 5
}
