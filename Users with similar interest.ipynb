{
 "cells": [
  {
   "cell_type": "code",
   "execution_count": 1,
   "id": "46304636",
   "metadata": {},
   "outputs": [],
   "source": [
    "# importing required packages \n",
    "from pyspark.sql import SparkSession\n",
    "from pyspark.ml.feature import HashingTF, IDF, Normalizer, Word2Vec \n",
    "from pyspark.ml.linalg import DenseVector, Vectors, VectorUDT\n",
    "from pyspark.sql.functions import col, explode, udf, concat_ws, collect_list, split\n",
    "from pyspark.ml.recommendation import ALS\n",
    "from pyspark.sql.types import DoubleType"
   ]
  },
  {
   "cell_type": "code",
   "execution_count": 2,
   "id": "35e8e4ac",
   "metadata": {},
   "outputs": [],
   "source": [
    "# Setting a spark session \n",
    "spark = SparkSession.builder.appName(\"Workload-1\").getOrCreate()\n",
    "sc = spark.sparkContext\n",
    "sc.defaultParallelism\n",
    "sc.getConf().getAll()\n",
    "spark.conf.set('spark.sql.adaptive.enabled',True)\n",
    "# spark.conf.set('spark.sql.adaptive.coalescePartitions.enabled',True)\n",
    "# spark.conf.set(\"spark.sql.shuffle.partitions\", 100)"
   ]
  },
  {
   "cell_type": "code",
   "execution_count": 3,
   "id": "f0e7ebb8",
   "metadata": {},
   "outputs": [],
   "source": [
    "# Reading data\n",
    "data = spark.read.option(\"multiline\",\"true\").json('tweets.json')\n",
    "# data.cache()\n",
    "# data.show(truncate=False)"
   ]
  },
  {
   "cell_type": "code",
   "execution_count": 4,
   "id": "deeab7ce",
   "metadata": {},
   "outputs": [],
   "source": [
    "# Formatting data in required format for tfidf and word2vec\n",
    "data_required_w1 = data.select('id','replyto_id','retweet_id','user_id').cache()\n",
    "# data_required_w1.show(3)\n",
    "data1_with_dr = data_required_w1.withColumn(\"Document representation\",concat_ws(\",\",col(\"replyto_id\"),col(\"retweet_id\")))\n",
    "# data1_with_dr.show(5)\n",
    "data1_grouped_dr = data1_with_dr.groupBy(\"user_id\").agg(concat_ws(',', collect_list(\"Document representation\"))).withColumnRenamed(\"concat_ws(,, collect_list(Document representation))\",\"Document_representation\")\n",
    "# data1_grouped_dr.show(truncate = False)\n",
    "data1_required_format = data1_grouped_dr.select(col('user_id'),split(col(\"Document_representation\"),\",\").alias(\"document_representation\"))\n",
    "# print(data1_required_format.dtypes)\n",
    "# data1_required_format.show(truncate=False)"
   ]
  },
  {
   "cell_type": "code",
   "execution_count": 5,
   "id": "e9a5a94d",
   "metadata": {},
   "outputs": [],
   "source": [
    "# UDF to calculate cosine similarity \n",
    "cosine_similarity = udf(lambda x,y: float(x.dot(y)/(x.norm(2)*y.norm(2))), DoubleType())"
   ]
  },
  {
   "cell_type": "code",
   "execution_count": 6,
   "id": "57311bb8",
   "metadata": {},
   "outputs": [],
   "source": [
    "# Building a tf-idf model \n",
    "hashingTF = HashingTF(inputCol=\"document_representation\", outputCol=\"term_frequency\",numFeatures=16384)\n",
    "tf_model = hashingTF.transform(data1_required_format)\n",
    "tf_model.cache()\n",
    "idf_model = IDF(inputCol=\"term_frequency\", outputCol=\"converted_features\").fit(tf_model)\n",
    "tfidf_matrix = idf_model.transform(tf_model)\n",
    "\n",
    "# tfidf_matrix.show(truncate = False)"
   ]
  },
  {
   "cell_type": "code",
   "execution_count": 7,
   "id": "a19dbced",
   "metadata": {},
   "outputs": [],
   "source": [
    "# Selecting a random row \n",
    "random_row = tfidf_matrix.rdd.takeSample(False, 1, seed=42)\n",
    "# random_row\n",
    "uid = random_row[0][0]\n",
    "uid_feature = random_row[0][3]\n",
    "feature_of_selected_uid = udf(lambda: uid_feature, VectorUDT())\n",
    "data1_tfidf_for_cosine_similarity = tfidf_matrix.withColumn(\"feature_of_selected_uid\", feature_of_selected_uid())"
   ]
  },
  {
   "cell_type": "code",
   "execution_count": 8,
   "id": "78f99432",
   "metadata": {},
   "outputs": [],
   "source": [
    "# Calculating cosine similarity for tf-idf\n",
    "data_tfidf_cosine_similarity = data1_tfidf_for_cosine_similarity.withColumn('cosine_similarity',cosine_similarity(data1_tfidf_for_cosine_similarity.converted_features,data1_tfidf_for_cosine_similarity.feature_of_selected_uid))"
   ]
  },
  {
   "cell_type": "code",
   "execution_count": 9,
   "id": "cc7099c0",
   "metadata": {},
   "outputs": [
    {
     "name": "stdout",
     "output_type": "stream",
     "text": [
      "Top 5 users with similar interest to user id : 9223062  with tfidf feature extractor\n",
      "+-------------------+\n",
      "|user_id            |\n",
      "+-------------------+\n",
      "|48698695           |\n",
      "|3345780705         |\n",
      "|17105179           |\n",
      "|546060993          |\n",
      "|1000400513219768321|\n",
      "+-------------------+\n",
      "only showing top 5 rows\n",
      "\n"
     ]
    }
   ],
   "source": [
    "# Final required result\n",
    "print('Top 5 users with similar interest to user id :',uid,' with tfidf feature extractor')\n",
    "data_tfidf_cosine_similarity.sort(col(\"cosine_similarity\").desc()).select('user_id').show(5,truncate=False)"
   ]
  },
  {
   "cell_type": "code",
   "execution_count": 10,
   "id": "9ca71134",
   "metadata": {},
   "outputs": [],
   "source": [
    "# Building the word2vec model\n",
    "word2vec = Word2Vec(vectorSize=15, minCount=1, inputCol=\"document_representation\", outputCol=\"word2vec_feature\")\n",
    "word2vec_model = word2vec.fit(data1_required_format)\n",
    "word2vec_matrix = word2vec_model.transform(data1_required_format)\n",
    "# word2vec_matrix.show(10,truncate=False)"
   ]
  },
  {
   "cell_type": "code",
   "execution_count": 11,
   "id": "8ebd7509",
   "metadata": {},
   "outputs": [],
   "source": [
    "# selecting a random row\n",
    "random_row_w2v = word2vec_matrix.rdd.takeSample(False, 1, seed=42)\n",
    "# random_row_w2v\n",
    "user_id_w2v = random_row_w2v[0][1]\n",
    "uid_feature_w2v = random_row_w2v[0][2]\n",
    "feature_of_selected_uid_w2v = udf(lambda: uid_feature_w2v, VectorUDT())\n",
    "data_w2v_for_cosine_similarity = word2vec_matrix.withColumn(\"feature_of_selected_uid\", feature_of_selected_uid_w2v())\n",
    "# data_w2v_for_cosine_similarity.show(truncate = False)\n",
    "# data_w2v_for_cosine_similarity.dtypes"
   ]
  },
  {
   "cell_type": "code",
   "execution_count": 12,
   "id": "e7e5700f",
   "metadata": {},
   "outputs": [],
   "source": [
    "# Calculating cosine similaity for word2vec\n",
    "data_w2v_cosine_similarity = data_w2v_for_cosine_similarity.withColumn('cosine_similarity',cosine_similarity(data_w2v_for_cosine_similarity.word2vec_feature ,data_w2v_for_cosine_similarity.feature_of_selected_uid ))\n",
    "# data_w2v_cosine_similarity.dtypes\n",
    "# data_w2v_cosine_similarity.show(truncate=False)"
   ]
  },
  {
   "cell_type": "code",
   "execution_count": 13,
   "id": "d7fdfeba",
   "metadata": {},
   "outputs": [
    {
     "name": "stdout",
     "output_type": "stream",
     "text": [
      "Top 5 users with similar interest to user id : 1390027514332991489  with word2vec feature extractor\n",
      "+--------+\n",
      "|user_id |\n",
      "+--------+\n",
      "|14880939|\n",
      "|17547658|\n",
      "|14997273|\n",
      "|15866004|\n",
      "|17473883|\n",
      "+--------+\n",
      "only showing top 5 rows\n",
      "\n"
     ]
    }
   ],
   "source": [
    "print('Top 5 users with similar interest to user id :',user_id_w2v[0],' with word2vec feature extractor')\n",
    "data_w2v_cosine_similarity.sort(col(\"cosine_similarity\").desc()).select('user_id').show(5,truncate=False)"
   ]
  }
 ],
 "metadata": {
  "kernelspec": {
   "display_name": "Python 3",
   "language": "python",
   "name": "python3"
  },
  "language_info": {
   "codemirror_mode": {
    "name": "ipython",
    "version": 3
   },
   "file_extension": ".py",
   "mimetype": "text/x-python",
   "name": "python",
   "nbconvert_exporter": "python",
   "pygments_lexer": "ipython3",
   "version": "3.8.8"
  }
 },
 "nbformat": 4,
 "nbformat_minor": 5
}
